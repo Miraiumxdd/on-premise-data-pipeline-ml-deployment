{
 "cells": [
  {
   "cell_type": "code",
   "execution_count": 1,
   "id": "ce4a0845",
   "metadata": {},
   "outputs": [
    {
     "ename": "gaierror",
     "evalue": "[Errno 11001] getaddrinfo failed",
     "output_type": "error",
     "traceback": [
      "\u001b[31m---------------------------------------------------------------------------\u001b[39m",
      "\u001b[31mgaierror\u001b[39m                                  Traceback (most recent call last)",
      "\u001b[36mCell\u001b[39m\u001b[36m \u001b[39m\u001b[32mIn[1]\u001b[39m\u001b[32m, line 12\u001b[39m\n\u001b[32m     10\u001b[39m \u001b[38;5;66;03m# Login to FTP\u001b[39;00m\n\u001b[32m     11\u001b[39m ftp = FTP_TLS()\n\u001b[32m---> \u001b[39m\u001b[32m12\u001b[39m \u001b[43mftp\u001b[49m\u001b[43m.\u001b[49m\u001b[43mconnect\u001b[49m\u001b[43m(\u001b[49m\u001b[43mftphost\u001b[49m\u001b[43m,\u001b[49m\u001b[43m \u001b[49m\u001b[43mftpport\u001b[49m\u001b[43m)\u001b[49m\n\u001b[32m     13\u001b[39m ftp.login(ftpuser, ftppass)\n\u001b[32m     14\u001b[39m ftp.prot_p() \u001b[38;5;66;03m# Fix on 522 Data connections must be encrypted.\u001b[39;00m\n",
      "\u001b[36mFile \u001b[39m\u001b[32m~\\AppData\\Local\\Programs\\Python\\Python312\\Lib\\ftplib.py:158\u001b[39m, in \u001b[36mFTP.connect\u001b[39m\u001b[34m(self, host, port, timeout, source_address)\u001b[39m\n\u001b[32m    156\u001b[39m     \u001b[38;5;28mself\u001b[39m.source_address = source_address\n\u001b[32m    157\u001b[39m sys.audit(\u001b[33m\"\u001b[39m\u001b[33mftplib.connect\u001b[39m\u001b[33m\"\u001b[39m, \u001b[38;5;28mself\u001b[39m, \u001b[38;5;28mself\u001b[39m.host, \u001b[38;5;28mself\u001b[39m.port)\n\u001b[32m--> \u001b[39m\u001b[32m158\u001b[39m \u001b[38;5;28mself\u001b[39m.sock = \u001b[43msocket\u001b[49m\u001b[43m.\u001b[49m\u001b[43mcreate_connection\u001b[49m\u001b[43m(\u001b[49m\u001b[43m(\u001b[49m\u001b[38;5;28;43mself\u001b[39;49m\u001b[43m.\u001b[49m\u001b[43mhost\u001b[49m\u001b[43m,\u001b[49m\u001b[43m \u001b[49m\u001b[38;5;28;43mself\u001b[39;49m\u001b[43m.\u001b[49m\u001b[43mport\u001b[49m\u001b[43m)\u001b[49m\u001b[43m,\u001b[49m\u001b[43m \u001b[49m\u001b[38;5;28;43mself\u001b[39;49m\u001b[43m.\u001b[49m\u001b[43mtimeout\u001b[49m\u001b[43m,\u001b[49m\n\u001b[32m    159\u001b[39m \u001b[43m                                     \u001b[49m\u001b[43msource_address\u001b[49m\u001b[43m=\u001b[49m\u001b[38;5;28;43mself\u001b[39;49m\u001b[43m.\u001b[49m\u001b[43msource_address\u001b[49m\u001b[43m)\u001b[49m\n\u001b[32m    160\u001b[39m \u001b[38;5;28mself\u001b[39m.af = \u001b[38;5;28mself\u001b[39m.sock.family\n\u001b[32m    161\u001b[39m \u001b[38;5;28mself\u001b[39m.file = \u001b[38;5;28mself\u001b[39m.sock.makefile(\u001b[33m'\u001b[39m\u001b[33mr\u001b[39m\u001b[33m'\u001b[39m, encoding=\u001b[38;5;28mself\u001b[39m.encoding)\n",
      "\u001b[36mFile \u001b[39m\u001b[32m~\\AppData\\Local\\Programs\\Python\\Python312\\Lib\\socket.py:841\u001b[39m, in \u001b[36mcreate_connection\u001b[39m\u001b[34m(address, timeout, source_address, all_errors)\u001b[39m\n\u001b[32m    839\u001b[39m host, port = address\n\u001b[32m    840\u001b[39m exceptions = []\n\u001b[32m--> \u001b[39m\u001b[32m841\u001b[39m \u001b[38;5;28;01mfor\u001b[39;00m res \u001b[38;5;129;01min\u001b[39;00m \u001b[43mgetaddrinfo\u001b[49m\u001b[43m(\u001b[49m\u001b[43mhost\u001b[49m\u001b[43m,\u001b[49m\u001b[43m \u001b[49m\u001b[43mport\u001b[49m\u001b[43m,\u001b[49m\u001b[43m \u001b[49m\u001b[32;43m0\u001b[39;49m\u001b[43m,\u001b[49m\u001b[43m \u001b[49m\u001b[43mSOCK_STREAM\u001b[49m\u001b[43m)\u001b[49m:\n\u001b[32m    842\u001b[39m     af, socktype, proto, canonname, sa = res\n\u001b[32m    843\u001b[39m     sock = \u001b[38;5;28;01mNone\u001b[39;00m\n",
      "\u001b[36mFile \u001b[39m\u001b[32m~\\AppData\\Local\\Programs\\Python\\Python312\\Lib\\socket.py:976\u001b[39m, in \u001b[36mgetaddrinfo\u001b[39m\u001b[34m(host, port, family, type, proto, flags)\u001b[39m\n\u001b[32m    973\u001b[39m \u001b[38;5;66;03m# We override this function since we want to translate the numeric family\u001b[39;00m\n\u001b[32m    974\u001b[39m \u001b[38;5;66;03m# and socket type values to enum constants.\u001b[39;00m\n\u001b[32m    975\u001b[39m addrlist = []\n\u001b[32m--> \u001b[39m\u001b[32m976\u001b[39m \u001b[38;5;28;01mfor\u001b[39;00m res \u001b[38;5;129;01min\u001b[39;00m \u001b[43m_socket\u001b[49m\u001b[43m.\u001b[49m\u001b[43mgetaddrinfo\u001b[49m\u001b[43m(\u001b[49m\u001b[43mhost\u001b[49m\u001b[43m,\u001b[49m\u001b[43m \u001b[49m\u001b[43mport\u001b[49m\u001b[43m,\u001b[49m\u001b[43m \u001b[49m\u001b[43mfamily\u001b[49m\u001b[43m,\u001b[49m\u001b[43m \u001b[49m\u001b[38;5;28;43mtype\u001b[39;49m\u001b[43m,\u001b[49m\u001b[43m \u001b[49m\u001b[43mproto\u001b[49m\u001b[43m,\u001b[49m\u001b[43m \u001b[49m\u001b[43mflags\u001b[49m\u001b[43m)\u001b[49m:\n\u001b[32m    977\u001b[39m     af, socktype, proto, canonname, sa = res\n\u001b[32m    978\u001b[39m     addrlist.append((_intenum_converter(af, AddressFamily),\n\u001b[32m    979\u001b[39m                      _intenum_converter(socktype, SocketKind),\n\u001b[32m    980\u001b[39m                      proto, canonname, sa))\n",
      "\u001b[31mgaierror\u001b[39m: [Errno 11001] getaddrinfo failed"
     ]
    }
   ],
   "source": [
    "from ftplib import FTP_TLS\n",
    "\n",
    "# FTP details\n",
    "ftphost = \"localhost or ip address\" # replace with your FTP ip address or just localhost\n",
    "ftpuser = \"username\" # replace with your FTP username\n",
    "ftppass = \"password\" # replace with your FTP password\n",
    "ftpport = 21 \n",
    "\n",
    "\n",
    "# Login to FTP\n",
    "ftp = FTP_TLS()\n",
    "ftp.connect(ftphost, ftpport)\n",
    "ftp.login(ftpuser, ftppass)\n",
    "ftp.prot_p() # Fix on 522 Data connections must be encrypted."
   ]
  },
  {
   "cell_type": "code",
   "execution_count": 2,
   "id": "33a79dae",
   "metadata": {},
   "outputs": [
    {
     "data": {
      "text/plain": [
       "'/home/ftpuser'"
      ]
     },
     "execution_count": 2,
     "metadata": {},
     "output_type": "execute_result"
    }
   ],
   "source": [
    "ftp.pwd()"
   ]
  }
 ],
 "metadata": {
  "kernelspec": {
   "display_name": ".venv",
   "language": "python",
   "name": "python3"
  },
  "language_info": {
   "codemirror_mode": {
    "name": "ipython",
    "version": 3
   },
   "file_extension": ".py",
   "mimetype": "text/x-python",
   "name": "python",
   "nbconvert_exporter": "python",
   "pygments_lexer": "ipython3",
   "version": "3.12.5"
  }
 },
 "nbformat": 4,
 "nbformat_minor": 5
}
